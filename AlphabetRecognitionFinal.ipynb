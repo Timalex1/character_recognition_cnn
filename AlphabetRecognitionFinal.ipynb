{
 "cells": [
  {
   "cell_type": "markdown",
   "source": [
    "## Alphabet Recognition System using Convolutional Neural Network (CNN)"
   ],
   "metadata": {}
  },
  {
   "cell_type": "markdown",
   "source": [
    "Convolutional Neural Network (CNN) is a Deep Learning Algorithm widely used for character recognition. This algorithm identifies the alphabet from the given input image.\n",
    "\n",
    "The accuracy achieved using this algorithm is 93.42%.\n",
    "\n",
    "## 1. Anvil Integration"
   ],
   "metadata": {}
  },
  {
   "cell_type": "code",
   "execution_count": 1,
   "source": [
    "import anvil.server\r\n",
    "import anvil.media\r\n",
    "anvil.server.connect(\"44STZQZQTYAAVHHWGRPMXDRN-P5VUQGPD3HW5UMWJ\")"
   ],
   "outputs": [
    {
     "output_type": "stream",
     "name": "stdout",
     "text": [
      "Connecting to wss://anvil.works/uplink\n",
      "Anvil websocket open\n",
      "Authenticated OK\n"
     ]
    }
   ],
   "metadata": {}
  },
  {
   "cell_type": "markdown",
   "source": [
    "## 2. Importing Libraries"
   ],
   "metadata": {}
  },
  {
   "cell_type": "code",
   "execution_count": null,
   "source": [
    "import numpy as np\r\n",
    "# import matplotlib.pyplot as plt\r\n",
    "from keras.preprocessing.image import ImageDataGenerator\r\n",
    "from keras.preprocessing import image\r\n",
    "import keras\r\n",
    "from keras.models import Sequential\r\n",
    "from keras.layers import Conv2D, MaxPooling2D, Flatten, Dense, Activation\r\n",
    "import os\r\n",
    "import pickle"
   ],
   "outputs": [
    {
     "output_type": "error",
     "ename": "ModuleNotFoundError",
     "evalue": "No module named 'matplotlib'",
     "traceback": [
      "\u001b[1;31m---------------------------------------------------------------------------\u001b[0m",
      "\u001b[1;31mModuleNotFoundError\u001b[0m                       Traceback (most recent call last)",
      "\u001b[1;32mC:\\Users\\TIMILE~1\\AppData\\Local\\Temp/ipykernel_5904/1726067530.py\u001b[0m in \u001b[0;36m<module>\u001b[1;34m\u001b[0m\n\u001b[0;32m      1\u001b[0m \u001b[1;32mimport\u001b[0m \u001b[0mnumpy\u001b[0m \u001b[1;32mas\u001b[0m \u001b[0mnp\u001b[0m\u001b[1;33m\u001b[0m\u001b[0m\n\u001b[1;32m----> 2\u001b[1;33m \u001b[1;32mimport\u001b[0m \u001b[0mmatplotlib\u001b[0m\u001b[1;33m.\u001b[0m\u001b[0mpyplot\u001b[0m \u001b[1;32mas\u001b[0m \u001b[0mplt\u001b[0m\u001b[1;33m\u001b[0m\u001b[0m\n\u001b[0m\u001b[0;32m      3\u001b[0m \u001b[1;32mfrom\u001b[0m \u001b[0mkeras\u001b[0m\u001b[1;33m.\u001b[0m\u001b[0mpreprocessing\u001b[0m\u001b[1;33m.\u001b[0m\u001b[0mimage\u001b[0m \u001b[1;32mimport\u001b[0m \u001b[0mImageDataGenerator\u001b[0m\u001b[1;33m\u001b[0m\u001b[0m\n\u001b[0;32m      4\u001b[0m \u001b[1;32mfrom\u001b[0m \u001b[0mkeras\u001b[0m\u001b[1;33m.\u001b[0m\u001b[0mpreprocessing\u001b[0m \u001b[1;32mimport\u001b[0m \u001b[0mimage\u001b[0m\u001b[1;33m\u001b[0m\u001b[0m\n\u001b[0;32m      5\u001b[0m \u001b[1;32mimport\u001b[0m \u001b[0mkeras\u001b[0m\u001b[1;33m\u001b[0m\u001b[0m\n",
      "\u001b[1;31mModuleNotFoundError\u001b[0m: No module named 'matplotlib'"
     ]
    }
   ],
   "metadata": {}
  },
  {
   "cell_type": "markdown",
   "source": [
    "## 3. Defining the Model Architecture"
   ],
   "metadata": {}
  },
  {
   "cell_type": "code",
   "execution_count": 1,
   "source": [
    "model = Sequential()\r\n",
    "model.add(Conv2D(32, (3, 3), input_shape = (32,32,3), activation = 'relu'))\r\n",
    "model.add(MaxPooling2D(pool_size = (2, 2)))\r\n",
    "\r\n",
    "\r\n",
    "model.add(Conv2D(32, (3, 3), activation = 'relu'))\r\n",
    "model.add(MaxPooling2D(pool_size = (2, 2)))\r\n",
    "\r\n",
    "model.add(Flatten())\r\n",
    "model.add(Dense(units = 128, activation = 'relu'))\r\n",
    "model.add(Dense(units = 26, activation = 'softmax'))\r\n",
    "\r\n",
    "\r\n",
    "model.compile(optimizer = 'adam', loss = 'categorical_crossentropy', metrics = ['accuracy'])\r\n",
    "\r\n",
    "model.summary()\r\n"
   ],
   "outputs": [
    {
     "output_type": "error",
     "ename": "NameError",
     "evalue": "name 'Sequential' is not defined",
     "traceback": [
      "\u001b[1;31m---------------------------------------------------------------------------\u001b[0m",
      "\u001b[1;31mNameError\u001b[0m                                 Traceback (most recent call last)",
      "\u001b[1;32mC:\\Users\\TIMILE~1\\AppData\\Local\\Temp/ipykernel_10500/525130724.py\u001b[0m in \u001b[0;36m<module>\u001b[1;34m\u001b[0m\n\u001b[1;32m----> 1\u001b[1;33m \u001b[0mmodel\u001b[0m \u001b[1;33m=\u001b[0m \u001b[0mSequential\u001b[0m\u001b[1;33m(\u001b[0m\u001b[1;33m)\u001b[0m\u001b[1;33m\u001b[0m\u001b[0m\n\u001b[0m\u001b[0;32m      2\u001b[0m \u001b[0mmodel\u001b[0m\u001b[1;33m.\u001b[0m\u001b[0madd\u001b[0m\u001b[1;33m(\u001b[0m\u001b[0mConv2D\u001b[0m\u001b[1;33m(\u001b[0m\u001b[1;36m32\u001b[0m\u001b[1;33m,\u001b[0m \u001b[1;33m(\u001b[0m\u001b[1;36m3\u001b[0m\u001b[1;33m,\u001b[0m \u001b[1;36m3\u001b[0m\u001b[1;33m)\u001b[0m\u001b[1;33m,\u001b[0m \u001b[0minput_shape\u001b[0m \u001b[1;33m=\u001b[0m \u001b[1;33m(\u001b[0m\u001b[1;36m32\u001b[0m\u001b[1;33m,\u001b[0m\u001b[1;36m32\u001b[0m\u001b[1;33m,\u001b[0m\u001b[1;36m3\u001b[0m\u001b[1;33m)\u001b[0m\u001b[1;33m,\u001b[0m \u001b[0mactivation\u001b[0m \u001b[1;33m=\u001b[0m \u001b[1;34m'relu'\u001b[0m\u001b[1;33m)\u001b[0m\u001b[1;33m)\u001b[0m\u001b[1;33m\u001b[0m\u001b[0m\n\u001b[0;32m      3\u001b[0m \u001b[0mmodel\u001b[0m\u001b[1;33m.\u001b[0m\u001b[0madd\u001b[0m\u001b[1;33m(\u001b[0m\u001b[0mMaxPooling2D\u001b[0m\u001b[1;33m(\u001b[0m\u001b[0mpool_size\u001b[0m \u001b[1;33m=\u001b[0m \u001b[1;33m(\u001b[0m\u001b[1;36m2\u001b[0m\u001b[1;33m,\u001b[0m \u001b[1;36m2\u001b[0m\u001b[1;33m)\u001b[0m\u001b[1;33m)\u001b[0m\u001b[1;33m)\u001b[0m\u001b[1;33m\u001b[0m\u001b[0m\n\u001b[0;32m      4\u001b[0m \u001b[1;33m\u001b[0m\u001b[0m\n\u001b[0;32m      5\u001b[0m \u001b[1;33m\u001b[0m\u001b[0m\n",
      "\u001b[1;31mNameError\u001b[0m: name 'Sequential' is not defined"
     ]
    }
   ],
   "metadata": {}
  },
  {
   "cell_type": "markdown",
   "source": [
    "## 4. Importing the Dataset"
   ],
   "metadata": {}
  },
  {
   "cell_type": "code",
   "execution_count": 22,
   "source": [
    "train_datagen = ImageDataGenerator(rescale = 1./255,\r\n",
    "                                   shear_range = 0.2,\r\n",
    "                                   zoom_range = 0.2,\r\n",
    "                                   horizontal_flip = True)\r\n",
    "\r\n",
    "test_datagen = ImageDataGenerator(rescale = 1./255)\r\n",
    "\r\n",
    "train_generator = train_datagen.flow_from_directory(\r\n",
    "    directory = 'Training',\r\n",
    "    target_size = (32,32),\r\n",
    "    batch_size = 32,\r\n",
    "    class_mode = 'categorical'\r\n",
    "\r\n",
    ")\r\n",
    "\r\n",
    "test_generator = test_datagen.flow_from_directory(\r\n",
    "    directory = 'Testing',\r\n",
    "    target_size = (32,32),\r\n",
    "    batch_size = 32,\r\n",
    "    class_mode = 'categorical'\r\n",
    "\r\n",
    ")"
   ],
   "outputs": [
    {
     "output_type": "stream",
     "name": "stdout",
     "text": [
      "Found 501 images belonging to 26 classes.\n",
      "Found 260 images belonging to 26 classes.\n"
     ]
    }
   ],
   "metadata": {}
  },
  {
   "cell_type": "markdown",
   "source": [
    "## 5. Training the Model"
   ],
   "metadata": {}
  },
  {
   "cell_type": "code",
   "execution_count": 25,
   "source": [
    "# history = model.fit_generator(train_generator,\r\n",
    "#                          steps_per_epoch = 16,\r\n",
    "#                          epochs = 3,\r\n",
    "#                          validation_data = test_generator,\r\n",
    "#                          validation_steps = 16)"
   ],
   "outputs": [
    {
     "output_type": "stream",
     "name": "stdout",
     "text": [
      "Epoch 1/3\n",
      "16/16 [==============================] - 1s 62ms/step - loss: 0.1866 - accuracy: 0.9082 - val_loss: 0.7112 - val_accuracy: 0.8657\n",
      "Epoch 2/3\n",
      "16/16 [==============================] - 1s 60ms/step - loss: 0.1769 - accuracy: 0.9301 - val_loss: 0.4118 - val_accuracy: 0.8662\n",
      "Epoch 3/3\n",
      "16/16 [==============================] - 1s 54ms/step - loss: 0.1672 - accuracy: 0.9261 - val_loss: 0.2001 - val_accuracy: 0.9342\n"
     ]
    }
   ],
   "metadata": {}
  },
  {
   "cell_type": "markdown",
   "source": [
    "## 6. Saving/Loading the Model"
   ],
   "metadata": {}
  },
  {
   "cell_type": "code",
   "execution_count": 26,
   "source": [
    "pickle.dump(model, open('CNN_model.sav', 'wb'))"
   ],
   "outputs": [],
   "metadata": {}
  },
  {
   "cell_type": "code",
   "execution_count": 27,
   "source": [
    "model = pickle.load(open('CNN_model.sav','rb'))"
   ],
   "outputs": [],
   "metadata": {}
  },
  {
   "cell_type": "markdown",
   "source": [
    "## 7. Testing the Model"
   ],
   "metadata": {}
  },
  {
   "cell_type": "code",
   "execution_count": 28,
   "source": [
    "# def get_result(result):\r\n",
    "#     if result[0][0] == 1:\r\n",
    "#         return('a')\r\n",
    "#     elif result[0][1] == 1:\r\n",
    "#         return ('b')\r\n",
    "#     elif result[0][2] == 1:\r\n",
    "#         return ('c')\r\n",
    "#     elif result[0][3] == 1:\r\n",
    "#         return ('d')\r\n",
    "#     elif result[0][4] == 1:\r\n",
    "#         return ('e')\r\n",
    "#     elif result[0][5] == 1:\r\n",
    "#         return ('f')\r\n",
    "#     elif result[0][6] == 1:\r\n",
    "#         return ('g')\r\n",
    "#     elif result[0][7] == 1:\r\n",
    "#         return ('h')\r\n",
    "#     elif result[0][8] == 1:\r\n",
    "#         return ('i')\r\n",
    "#     elif result[0][9] == 1:\r\n",
    "#         return ('j')\r\n",
    "#     elif result[0][10] == 1:\r\n",
    "#         return ('k')\r\n",
    "#     elif result[0][11] == 1:\r\n",
    "#         return ('l')\r\n",
    "#     elif result[0][12] == 1:\r\n",
    "#         return ('m')\r\n",
    "#     elif result[0][13] == 1:\r\n",
    "#         return ('n')\r\n",
    "#     elif result[0][14] == 1:\r\n",
    "#         return ('o')\r\n",
    "#     elif result[0][15] == 1:\r\n",
    "#         return ('p')\r\n",
    "#     elif result[0][16] == 1:\r\n",
    "#         return ('q')\r\n",
    "#     elif result[0][17] == 1:\r\n",
    "#         return ('r')\r\n",
    "#     elif result[0][18] == 1:\r\n",
    "#         return ('s')\r\n",
    "#     elif result[0][19] == 1:\r\n",
    "#         return ('t')\r\n",
    "#     elif result[0][20] == 1:\r\n",
    "#         return ('u')\r\n",
    "#     elif result[0][21] == 1:\r\n",
    "#         return ('v')\r\n",
    "#     elif result[0][22] == 1:\r\n",
    "#         return ('w')\r\n",
    "#     elif result[0][23] == 1:\r\n",
    "#         return ('x')\r\n",
    "#     elif result[0][24] == 1:\r\n",
    "#         return ('y')\r\n",
    "#     elif result[0][25] == 1:\r\n",
    "#         return ('z')"
   ],
   "outputs": [],
   "metadata": {}
  },
  {
   "cell_type": "code",
   "execution_count": 29,
   "source": [
    "# filename = r'Testing\\e\\25.png'\r\n",
    "# test_image = image.load_img(filename, target_size = (32,32))\r\n",
    "# plt.imshow(test_image)\r\n",
    "# test_image = image.img_to_array(test_image)\r\n",
    "# test_image = np.expand_dims(test_image, axis = 0)\r\n"
   ],
   "outputs": [
    {
     "output_type": "display_data",
     "data": {
      "image/png": "[encoded data removed]",
      "text/plain": [
       "<Figure size 432x288 with 1 Axes>"
      ]
     },
     "metadata": {
      "needs_background": "light"
     }
    }
   ],
   "metadata": {}
  },
  {
   "cell_type": "code",
   "execution_count": 30,
   "source": [
    "# result = model.predict(test_image)\r\n",
    "# result = get_result(result)\r\n",
    "# print ('Predicted Alphabet is: {}'.format(result))"
   ],
   "outputs": [
    {
     "output_type": "stream",
     "name": "stdout",
     "text": [
      "Predicted Alphabet is: e\n"
     ]
    }
   ],
   "metadata": {}
  },
  {
   "cell_type": "markdown",
   "source": [
    "## 8. Predicting the Alphabet from the Input Image"
   ],
   "metadata": {}
  },
  {
   "cell_type": "markdown",
   "source": [
    "This part of code is receives the input image from the anvil website and returns the predicted alphabet back to the website."
   ],
   "metadata": {}
  },
  {
   "cell_type": "code",
   "execution_count": 31,
   "source": [
    "# @anvil.server.callable\r\n",
    "# def model_run(path):\r\n",
    "#     with anvil.media.TempFile(path) as filename:\r\n",
    "#         test_image = image.load_img(filename, target_size = (32,32))\r\n",
    "#         test_image = image.img_to_array(test_image)\r\n",
    "#         test_image = np.expand_dims(test_image, axis = 0)\r\n",
    "#         result = model.predict(test_image)\r\n",
    "#         result = get_result(result)\r\n",
    "#         return ('Predicted Alphabet is: {}'.format(result))\r\n",
    "        "
   ],
   "outputs": [],
   "metadata": {}
  },
  {
   "cell_type": "code",
   "execution_count": null,
   "source": [],
   "outputs": [],
   "metadata": {}
  },
  {
   "cell_type": "code",
   "execution_count": null,
   "source": [],
   "outputs": [],
   "metadata": {}
  }
 ],
 "metadata": {
  "kernelspec": {
   "name": "python3",
   "display_name": "Python 3.7.0 64-bit"
  },
  "language_info": {
   "codemirror_mode": {
    "name": "ipython",
    "version": 3
   },
   "file_extension": ".py",
   "mimetype": "text/x-python",
   "name": "python",
   "nbconvert_exporter": "python",
   "pygments_lexer": "ipython3",
   "version": "3.7.0"
  },
  "interpreter": {
   "hash": "cf758511affad3b101537e95bf7c607b4798ea5486a1c8866b13c65bf2f3e9df"
  }
 },
 "nbformat": 4,
 "nbformat_minor": 4
}